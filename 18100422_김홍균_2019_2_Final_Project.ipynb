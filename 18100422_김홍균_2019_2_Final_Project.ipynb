{
  "nbformat": 4,
  "nbformat_minor": 0,
  "metadata": {
    "colab": {
      "name": "18100422 김홍균 2019_2_Final Project.ipynb",
      "provenance": [],
      "collapsed_sections": [
        "gOfpwA-yueMq"
      ],
      "include_colab_link": true
    },
    "kernelspec": {
      "name": "python3",
      "display_name": "Python 3"
    }
  },
  "cells": [
    {
      "cell_type": "markdown",
      "metadata": {
        "id": "view-in-github",
        "colab_type": "text"
      },
      "source": [
        "<a href=\"https://colab.research.google.com/github/Kim-Hongkyun/Oedipus/blob/master/18100422_%EA%B9%80%ED%99%8D%EA%B7%A0_2019_2_Final_Project.ipynb\" target=\"_parent\"><img src=\"https://colab.research.google.com/assets/colab-badge.svg\" alt=\"Open In Colab\"/></a>"
      ]
    },
    {
      "cell_type": "code",
      "metadata": {
        "colab_type": "code",
        "id": "granXqAUut8N",
        "colab": {}
      },
      "source": [
        ""
      ],
      "execution_count": 0,
      "outputs": []
    },
    {
      "cell_type": "markdown",
      "metadata": {
        "id": "gOfpwA-yueMq",
        "colab_type": "text"
      },
      "source": [
        "## Laplace's equation in sphere"
      ]
    },
    {
      "cell_type": "markdown",
      "metadata": {
        "id": "As4qrktCuxql",
        "colab_type": "text"
      },
      "source": [
        "\n",
        "(a)To apply separation of variables on this equation, let's rewrite the given function into multiplication of three functions, where each function has only single independent variable.\n",
        "\n",
        ">$\\begin{align*}\n",
        " u({r},\\phi,\\theta) &= {R}(r)\\Theta(\\theta)\\Phi(\\phi)\\\\ \n",
        "\\end{align*}$\n",
        "\n",
        "Then given Laplace equation turs into: \n",
        "\n",
        ">$\\begin{align*}\n",
        " \\frac{d^2R}{dr^2}\\Phi\\Theta + \\frac{2}{r}\\frac{dR}{dr}\\Theta\\Phi + \\frac{1}{r^2\\sin^2\\phi}\\frac{d^2\\Theta}{d\\theta^2}\\Phi{R} + \\frac{\\cos\\phi}{r^2\\sin\\phi}\\frac{d\\Phi}{d\\phi}\\Theta{R} + \\frac{1}{r^2}\\frac{d^2\\Phi}{d\\phi^2}\\Phi{R}=0\n",
        "\\end{align*}$\n",
        "\n",
        "If we divide this equation by \n",
        ">$\\begin{align*}\n",
        "R\\Theta\\Phi, \n",
        "\\end{align*}$\n",
        "\n",
        "and then organize, equation above will be rewritten as below:\n",
        "\n",
        ">$\\begin{align*}\n",
        "(\\frac{r^2\\sin^2\\phi}{{R}}\\frac{d^2{R}}{dr^2} + \\frac{2r\\sin^2\\phi}{{R}}\\frac{d{R}}{dr}) + (\\frac{1}{\\Theta}\\frac{d^2\\Theta}{d\\theta^2}) + (\\frac{\\cos\\phi \\sin\\phi}{\\Theta}\\frac{d\\Phi}{d\\phi} + \\frac{\\sin^2\\phi}{\\Phi}\\frac{d^2\\Phi}{d\\phi^2})=0 : (1)\n",
        "\\end{align*}$\n",
        "\n",
        "Second part of the equation above must be sine curve-based, so \n",
        "\n",
        ">$\\begin{align*}\n",
        "\\frac{d^2\\Theta}{d\\theta^2}\\frac{1}{\\Theta}=-m^2  : (2)\n",
        "\\end{align*}$\n",
        "\n",
        "By solving this equation, we obtain:\n",
        "\n",
        ">$\\begin{align*}\n",
        "\\Theta(\\theta)=S_m\\sin(m\\theta)+C_m\\cos(m\\theta)\n",
        "\\end{align*}$\n",
        "\n",
        "Let's plug (2) into (1), so that we can get equation as below:\n",
        "\n",
        ">$\\begin{align*}\n",
        "\\frac{r^2}{{R}}\\frac{d^2{R}}{dr^2} + \\frac{2r}{{R}}\\frac{d{R}}{dr} + \\frac{1}{\\sin^2\\phi}(\\frac{\\cos\\phi \\sin\\phi}{\\Phi}\\frac{d\\Phi}{d\\phi} + \\frac{\\sin^2\\phi}{\\Phi}\\frac{d^2\\Phi}{d\\phi^2}-m^2)=0 : (3)\n",
        "\\end{align*}$\n",
        "\n",
        "The radial part must be equal to a constant:\n",
        "\n",
        ">$\\begin{align*}\n",
        "\\frac{r^2}{{R}}\\frac{d^2{R}}{dr^2} + \\frac{2r}{{R}}\\frac{d{R}}{dr}=l(l+1)\n",
        "\\end{align*}$\n",
        "\n",
        "By multiplying R to both sides of equation, we obtain\n",
        "\n",
        ">$\\begin{align*}\n",
        "{r^2}\\frac{d^2{R}}{dr^2} + {2r}\\frac{d{R}}{dr}=l(l+1){R}\n",
        "\\end{align*}$\n",
        "\n",
        "This is the Cauchy-Euler differential equation, so we'll try a series solution\n",
        "\n",
        ">$\\begin{align*}\n",
        "{R}(r)=\\sum_{n=0}^\\infty a_nr^{n+c}\n",
        "\\end{align*}$\n",
        "\n",
        "Then\n",
        "\n",
        ">$\\begin{align*}\n",
        "r^2\\sum_{n=0}^\\infty (n+c)(n+c-1)a_nr^{n+c-2} + 2r\\sum_{n=0}^\\infty(n+c)a_nr^{n+c-1}-l(l+1)\\sum_{n=0}^\\infty a_nr^{n+c}=0\n",
        "\\end{align*}$\n",
        "\n",
        ";\n",
        "\n",
        ">$\\begin{align*}\n",
        "r^2\\sum_{n=0}^\\infty [(n+c)(n+c-1)-l(l+1)]a_nr^{n+c}=0\n",
        "\\end{align*}$\n",
        "\n",
        "This equation must be true for all powers of r. \n",
        "\n",
        ">$\\begin{align*}\n",
        "c(c+1)=l(l+1), c=l, -(l+1), a_n=0 (n \\text{ except}\\ l, -(l+1)\\\\\n",
        "\\downarrow \\text{Then the solution of the}\\ {R} \\text{ component is given by : }\\\\\n",
        "{R}_l(r)=A_lr^l+B_lr^{-l-1} : (4)\\\n",
        "\\downarrow \\text{Plugging (4) into (3) gives : }\\\n",
        "\\frac{d^2\\Phi}{d\\phi^2} + \\frac{\\cos \\phi}{\\sin \\phi}\\frac{d\\Phi}{d\\phi} + [l(l+l)-\\frac{m^2}{\\sin^2 \\phi}]\\Phi=0\\\n",
        ", \\text{which is the associated Legendre differential equation for } x=\\cos\\phi \\text{ and } m=0,1, 2, ... , l \\\n",
        "\\text{Therefore the general complex solution is}\\\n",
        "\\sum_{l=0}^\\infty\\sum_{m=-l}^{l} (A_lr^l + B_lr^{-l-1})P_l^m(\\cos\\phi)e^{-im\\theta}\\\n",
        "\\end{align*}$\n",
        "\n",
        "The general real solution is\n",
        "\n",
        ">$\\begin{align*}\n",
        "u(r, \\phi, \\theta)=\\sum_{l=0}^\\infty \\sum_{m=0}^{l}(A_lr^l + B_lr^{-l-1}) P_l^m(\\cos\\phi)[S_l^m \\sin(m\\theta) + C_l^m \\cos(m\\theta)]\n",
        "\\end{align*}$\n",
        "\n",
        "(b)"
      ]
    },
    {
      "cell_type": "markdown",
      "metadata": {
        "id": "JdmX9ERuaVLV",
        "colab_type": "text"
      },
      "source": [
        "## Poisson's equation for the sphere"
      ]
    },
    {
      "cell_type": "markdown",
      "metadata": {
        "id": "T206S5xXakKH",
        "colab_type": "text"
      },
      "source": [
        "(a) Function \n",
        "\n",
        ">$\\begin{align*}\n",
        "-F(r, \\phi, \\theta) \\text{ can be written as} -F(r, \\phi, \\theta)=r_0(\\phi) + is_0(\\phi) + \\sum_{k=1}^\\infty r_k(\\phi)\\cos(k\\lambda) + is_k(\\phi)\\sin(k\\lambda)\n",
        "\\end{align*}$"
      ]
    }
  ]
}